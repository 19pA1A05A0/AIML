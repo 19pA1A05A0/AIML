{
  "nbformat": 4,
  "nbformat_minor": 0,
  "metadata": {
    "colab": {
      "name": "Untitled1.ipynb",
      "provenance": [],
      "authorship_tag": "ABX9TyMe1cM8PXwpr9+EULmKxGLl",
      "include_colab_link": true
    },
    "kernelspec": {
      "name": "python3",
      "display_name": "Python 3"
    }
  },
  "cells": [
    {
      "cell_type": "markdown",
      "metadata": {
        "id": "view-in-github",
        "colab_type": "text"
      },
      "source": [
        "<a href=\"https://colab.research.google.com/github/19pA1A05A0/AIML/blob/master/2nd%20max.ipynb\" target=\"_parent\"><img src=\"https://colab.research.google.com/assets/colab-badge.svg\" alt=\"Open In Colab\"/></a>"
      ]
    },
    {
      "cell_type": "code",
      "metadata": {
        "id": "CgzY6xU9xPtF",
        "colab_type": "code",
        "colab": {
          "base_uri": "https://localhost:8080/",
          "height": 139
        },
        "outputId": "d2c8fada-fe13-4dac-9ee5-aa77a2035685"
      },
      "source": [
        "def max2(l):\n",
        "  l.sort()\n",
        "  sh=l[-2]\n",
        "  return sh\n",
        "n=int(input(\"enter the length of the list\"))\n",
        "srk=[]\n",
        "for i in range(n):\n",
        "  a=int(input(\"enter a number:\"))\n",
        "  srk.append(a)\n",
        "m2=max2(srk)\n",
        "print(\"the second biggest number is %d\"%m2)"
      ],
      "execution_count": 1,
      "outputs": [
        {
          "output_type": "stream",
          "text": [
            "enter the length of the list5\n",
            "enter a number:2\n",
            "enter a number:3\n",
            "enter a number:45\n",
            "enter a number:54\n",
            "enter a number:34\n",
            "the second biggest number is 45\n"
          ],
          "name": "stdout"
        }
      ]
    }
  ]
}