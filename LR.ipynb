{
  "nbformat": 4,
  "nbformat_minor": 0,
  "metadata": {
    "kernelspec": {
      "display_name": "Python 3",
      "language": "python",
      "name": "python3"
    },
    "language_info": {
      "codemirror_mode": {
        "name": "ipython",
        "version": 3
      },
      "file_extension": ".py",
      "mimetype": "text/x-python",
      "name": "python",
      "nbconvert_exporter": "python",
      "pygments_lexer": "ipython3",
      "version": "3.5.2"
    },
    "colab": {
      "name": "LR.ipynb",
      "provenance": [],
      "collapsed_sections": [],
      "include_colab_link": true
    }
  },
  "cells": [
    {
      "cell_type": "markdown",
      "metadata": {
        "id": "view-in-github",
        "colab_type": "text"
      },
      "source": [
        "<a href=\"https://colab.research.google.com/github/19pA1A05A0/AIML/blob/master/LR.ipynb\" target=\"_parent\"><img src=\"https://colab.research.google.com/assets/colab-badge.svg\" alt=\"Open In Colab\"/></a>"
      ]
    },
    {
      "cell_type": "code",
      "metadata": {
        "id": "M_PIgWSw5ujZ",
        "colab_type": "code",
        "colab": {}
      },
      "source": [
        "import numpy as np"
      ],
      "execution_count": 0,
      "outputs": []
    },
    {
      "cell_type": "markdown",
      "metadata": {
        "id": "ev5LHf4n5ujh",
        "colab_type": "text"
      },
      "source": [
        "### Generating data 'X' ranges between -10 to 10 \n",
        "### 'Y' is a linear combination of parameters as Y = ax+b+gaussian(0,epsilon)"
      ]
    },
    {
      "cell_type": "code",
      "metadata": {
        "id": "nHv5bu3f5uji",
        "colab_type": "code",
        "colab": {}
      },
      "source": [
        "Number_of_points = 1000\n",
        "X_data = np.linspace(-10,10,Number_of_points)\n",
        "W0_true = 11\n",
        "W1_true = 4.5\n",
        "Y_data = W1_true*X_data + W0_true + np.random.normal(0,0.5,Number_of_points)"
      ],
      "execution_count": 0,
      "outputs": []
    },
    {
      "cell_type": "markdown",
      "metadata": {
        "id": "vz0fl1jK5ujp",
        "colab_type": "text"
      },
      "source": [
        "### Split the data into training and testing set"
      ]
    },
    {
      "cell_type": "code",
      "metadata": {
        "id": "Ud_eBHu15ujq",
        "colab_type": "code",
        "colab": {}
      },
      "source": [
        "Number_of_training = int(Number_of_points*0.8)\n",
        "Number_of_testing = int(Number_of_points*0.2)\n",
        "index = np.random.permutation(Number_of_points) #A random permutation of 1..N is generated"
      ],
      "execution_count": 0,
      "outputs": []
    },
    {
      "cell_type": "code",
      "metadata": {
        "id": "twiKThLx5uju",
        "colab_type": "code",
        "colab": {}
      },
      "source": [
        "X_train = X_data[index[:Number_of_training]] \n",
        "Y_train = Y_data[index[:Number_of_training]]"
      ],
      "execution_count": 0,
      "outputs": []
    },
    {
      "cell_type": "code",
      "metadata": {
        "id": "gIntD37V5ujy",
        "colab_type": "code",
        "colab": {}
      },
      "source": [
        "X_test = X_data[index[Number_of_training:]]\n",
        "Y_test = Y_data[index[Number_of_training:]]"
      ],
      "execution_count": 0,
      "outputs": []
    },
    {
      "cell_type": "markdown",
      "metadata": {
        "id": "NaLqfb3c5uj2",
        "colab_type": "text"
      },
      "source": [
        "### Plot the data points"
      ]
    },
    {
      "cell_type": "code",
      "metadata": {
        "id": "8QLU1o_95uj5",
        "colab_type": "code",
        "colab": {
          "base_uri": "https://localhost:8080/",
          "height": 283
        },
        "outputId": "2e6b9e69-2b4d-452b-9f96-a344d0aa8afc"
      },
      "source": [
        "import matplotlib.pyplot as plt\n",
        "def plot(x,y,title):\n",
        "    fig,(ax1) = plt.subplots(1)\n",
        "    if title!='Loss':\n",
        "        ax1.plot(x,y,'x')\n",
        "    else:\n",
        "        ax1.plot(x,y)\n",
        "        \n",
        "    ax1.set_title(title, fontdict={'fontsize': 15, 'fontweight': 'medium'})\n",
        "    \n",
        "def plot_curve(x,y,W0,W1,title):\n",
        "    fig,(ax1) = plt.subplots(1)\n",
        "    #ax1.plot(x,y,'x')\n",
        "    ax1.set_title(title, fontdict={'fontsize': 15, 'fontweight': 'medium'})\n",
        "    y = W0 + W1*x\n",
        "    #ax1.plot(x,y,'o')\n",
        "    ax1.plot([X_data[0],X_data[-1]],[W0_true+W1_true*X_data[0],W0_true+W1_true*X_data[-1]],color = 'blue')\n",
        "    ax1.plot([X_data[0],X_data[-1]],[W0+W1*X_data[0],W0+W1*X_data[-1]],color = 'red')\n",
        "\n",
        "    \n",
        "plot(X_train[0:100],Y_train[0:100],'Few data points')"
      ],
      "execution_count": 24,
      "outputs": [
        {
          "output_type": "display_data",
          "data": {
            "image/png": "[encoded data removed]",
            "text/plain": [
              "<Figure size 432x288 with 1 Axes>"
            ]
          },
          "metadata": {
            "tags": []
          }
        }
      ]
    },
    {
      "cell_type": "markdown",
      "metadata": {
        "id": "VYN9vYyO5uj-",
        "colab_type": "text"
      },
      "source": [
        "### Fitting a 1st order polynomial  of type y = W0 + W1*x. \n",
        "We want to learn the parameters W0 and W1. Lets initialize W0 and W1 with random values"
      ]
    },
    {
      "cell_type": "code",
      "metadata": {
        "id": "1DKMwZ_05ukA",
        "colab_type": "code",
        "colab": {}
      },
      "source": [
        "\n",
        "def compute_loss(x,y,W0,W1):\n",
        "    return np.sum(np.power(W0+W1*x - y,2))/(2.0*Number_of_training)\n",
        "    "
      ],
      "execution_count": 0,
      "outputs": []
    },
    {
      "cell_type": "markdown",
      "metadata": {
        "id": "PuC1X4ed5ukD",
        "colab_type": "text"
      },
      "source": [
        "### Learning the parameters of the model for some 'N' epochs, by minimizing squared-difference error\n",
        "$L(W) = \\frac{1}{2}\\Sigma_{n=1}^{N}(W^Tx_i - y_i)^2$                                                            "
      ]
    },
    {
      "cell_type": "code",
      "metadata": {
        "scrolled": false,
        "id": "eEFZu1DX5ukE",
        "colab_type": "code",
        "colab": {}
      },
      "source": [
        "Epochs = 1000\n",
        "learning_rate = 0.001\n",
        "W0 = np.random.normal(0,0.2,1)\n",
        "W1 = np.random.normal(0,0.2,1)\n",
        "Loss = []\n",
        "for epoch in range(Epochs):\n",
        "    dW0 = 0;dW1 = 0\n",
        "    for n in range(Number_of_training):\n",
        "        dW0 = dW0 + (W0 + W1*X_train[n] - Y_train[n])*1\n",
        "        dW1 = dW1 + (W0 + W1*X_train[n] - Y_train[n])*X_train[n]\n",
        "    W0 = W0 - learning_rate*dW0/Number_of_training\n",
        "    W1 = W1 - learning_rate*dW1/Number_of_training\n",
        "    Loss.append(compute_loss(X_train,Y_train,W0,W1))\n",
        "    if epoch%50==0:        \n",
        "        plot_curve(X_train,Y_train,W0,W1,'Training')\n",
        "        print(\"Epoch : \"+str(epoch)+\"\\\\\"+str(Epochs) + \" Train loss: \"+str(compute_loss(X_train,Y_train,W0,W1)))\n",
        "            #plot_curve(X_train,Y_train,W,'Training')\n",
        "\n",
        "\n",
        "plot(range(len(Loss)),Loss,'Loss')\n",
        "    \n",
        "        \n",
        "    \n",
        "        \n"
      ],
      "execution_count": 0,
      "outputs": []
    },
    {
      "cell_type": "markdown",
      "metadata": {
        "id": "NCKbbHdo5ukJ",
        "colab_type": "text"
      },
      "source": [
        ""
      ]
    },
    {
      "cell_type": "code",
      "metadata": {
        "id": "FriOGApc5ukK",
        "colab_type": "code",
        "colab": {}
      },
      "source": [
        "import pandas as pd"
      ],
      "execution_count": 0,
      "outputs": []
    },
    {
      "cell_type": "code",
      "metadata": {
        "id": "v3UTfdDA5ukN",
        "colab_type": "code",
        "colab": {}
      },
      "source": [
        "toyota=pd.read_csv(\"https://raw.githubusercontent.com/bhargav23/Dataset/master/Toyota.csv\",index_col=0,na_values=['??','???','????'])"
      ],
      "execution_count": 0,
      "outputs": []
    },
    {
      "cell_type": "code",
      "metadata": {
        "id": "GPvdH0oCBXGP",
        "colab_type": "code",
        "colab": {
          "base_uri": "https://localhost:8080/",
          "height": 419
        },
        "outputId": "147bd178-c914-4f41-9ff9-cc8b1333dfc3"
      },
      "source": [
        "toyota.fillna(0)"
      ],
      "execution_count": 50,
      "outputs": [
        {
          "output_type": "execute_result",
          "data": {
            "text/html": [
              "<div>\n",
              "<style scoped>\n",
              "    .dataframe tbody tr th:only-of-type {\n",
              "        vertical-align: middle;\n",
              "    }\n",
              "\n",
              "    .dataframe tbody tr th {\n",
              "        vertical-align: top;\n",
              "    }\n",
              "\n",
              "    .dataframe thead th {\n",
              "        text-align: right;\n",
              "    }\n",
              "</style>\n",
              "<table border=\"1\" class=\"dataframe\">\n",
              "  <thead>\n",
              "    <tr style=\"text-align: right;\">\n",
              "      <th></th>\n",
              "      <th>Price</th>\n",
              "      <th>Age</th>\n",
              "      <th>KM</th>\n",
              "      <th>FuelType</th>\n",
              "      <th>HP</th>\n",
              "      <th>MetColor</th>\n",
              "      <th>Automatic</th>\n",
              "      <th>CC</th>\n",
              "      <th>Doors</th>\n",
              "      <th>Weight</th>\n",
              "    </tr>\n",
              "  </thead>\n",
              "  <tbody>\n",
              "    <tr>\n",
              "      <th>0</th>\n",
              "      <td>13500</td>\n",
              "      <td>23.0</td>\n",
              "      <td>46986.0</td>\n",
              "      <td>Diesel</td>\n",
              "      <td>90.0</td>\n",
              "      <td>1.0</td>\n",
              "      <td>0</td>\n",
              "      <td>2000</td>\n",
              "      <td>three</td>\n",
              "      <td>1165</td>\n",
              "    </tr>\n",
              "    <tr>\n",
              "      <th>1</th>\n",
              "      <td>13750</td>\n",
              "      <td>23.0</td>\n",
              "      <td>72937.0</td>\n",
              "      <td>Diesel</td>\n",
              "      <td>90.0</td>\n",
              "      <td>1.0</td>\n",
              "      <td>0</td>\n",
              "      <td>2000</td>\n",
              "      <td>3</td>\n",
              "      <td>1165</td>\n",
              "    </tr>\n",
              "    <tr>\n",
              "      <th>2</th>\n",
              "      <td>13950</td>\n",
              "      <td>24.0</td>\n",
              "      <td>41711.0</td>\n",
              "      <td>Diesel</td>\n",
              "      <td>90.0</td>\n",
              "      <td>0.0</td>\n",
              "      <td>0</td>\n",
              "      <td>2000</td>\n",
              "      <td>3</td>\n",
              "      <td>1165</td>\n",
              "    </tr>\n",
              "    <tr>\n",
              "      <th>3</th>\n",
              "      <td>14950</td>\n",
              "      <td>26.0</td>\n",
              "      <td>48000.0</td>\n",
              "      <td>Diesel</td>\n",
              "      <td>90.0</td>\n",
              "      <td>0.0</td>\n",
              "      <td>0</td>\n",
              "      <td>2000</td>\n",
              "      <td>3</td>\n",
              "      <td>1165</td>\n",
              "    </tr>\n",
              "    <tr>\n",
              "      <th>4</th>\n",
              "      <td>13750</td>\n",
              "      <td>30.0</td>\n",
              "      <td>38500.0</td>\n",
              "      <td>Diesel</td>\n",
              "      <td>90.0</td>\n",
              "      <td>0.0</td>\n",
              "      <td>0</td>\n",
              "      <td>2000</td>\n",
              "      <td>3</td>\n",
              "      <td>1170</td>\n",
              "    </tr>\n",
              "    <tr>\n",
              "      <th>...</th>\n",
              "      <td>...</td>\n",
              "      <td>...</td>\n",
              "      <td>...</td>\n",
              "      <td>...</td>\n",
              "      <td>...</td>\n",
              "      <td>...</td>\n",
              "      <td>...</td>\n",
              "      <td>...</td>\n",
              "      <td>...</td>\n",
              "      <td>...</td>\n",
              "    </tr>\n",
              "    <tr>\n",
              "      <th>1431</th>\n",
              "      <td>7500</td>\n",
              "      <td>0.0</td>\n",
              "      <td>20544.0</td>\n",
              "      <td>Petrol</td>\n",
              "      <td>86.0</td>\n",
              "      <td>1.0</td>\n",
              "      <td>0</td>\n",
              "      <td>1300</td>\n",
              "      <td>3</td>\n",
              "      <td>1025</td>\n",
              "    </tr>\n",
              "    <tr>\n",
              "      <th>1432</th>\n",
              "      <td>10845</td>\n",
              "      <td>72.0</td>\n",
              "      <td>0.0</td>\n",
              "      <td>Petrol</td>\n",
              "      <td>86.0</td>\n",
              "      <td>0.0</td>\n",
              "      <td>0</td>\n",
              "      <td>1300</td>\n",
              "      <td>3</td>\n",
              "      <td>1015</td>\n",
              "    </tr>\n",
              "    <tr>\n",
              "      <th>1433</th>\n",
              "      <td>8500</td>\n",
              "      <td>0.0</td>\n",
              "      <td>17016.0</td>\n",
              "      <td>Petrol</td>\n",
              "      <td>86.0</td>\n",
              "      <td>0.0</td>\n",
              "      <td>0</td>\n",
              "      <td>1300</td>\n",
              "      <td>3</td>\n",
              "      <td>1015</td>\n",
              "    </tr>\n",
              "    <tr>\n",
              "      <th>1434</th>\n",
              "      <td>7250</td>\n",
              "      <td>70.0</td>\n",
              "      <td>0.0</td>\n",
              "      <td>0</td>\n",
              "      <td>86.0</td>\n",
              "      <td>1.0</td>\n",
              "      <td>0</td>\n",
              "      <td>1300</td>\n",
              "      <td>3</td>\n",
              "      <td>1015</td>\n",
              "    </tr>\n",
              "    <tr>\n",
              "      <th>1435</th>\n",
              "      <td>6950</td>\n",
              "      <td>76.0</td>\n",
              "      <td>1.0</td>\n",
              "      <td>Petrol</td>\n",
              "      <td>110.0</td>\n",
              "      <td>0.0</td>\n",
              "      <td>0</td>\n",
              "      <td>1600</td>\n",
              "      <td>5</td>\n",
              "      <td>1114</td>\n",
              "    </tr>\n",
              "  </tbody>\n",
              "</table>\n",
              "<p>1436 rows × 10 columns</p>\n",
              "</div>"
            ],
            "text/plain": [
              "      Price   Age       KM FuelType  ...  Automatic    CC  Doors  Weight\n",
              "0     13500  23.0  46986.0   Diesel  ...          0  2000  three    1165\n",
              "1     13750  23.0  72937.0   Diesel  ...          0  2000      3    1165\n",
              "2     13950  24.0  41711.0   Diesel  ...          0  2000      3    1165\n",
              "3     14950  26.0  48000.0   Diesel  ...          0  2000      3    1165\n",
              "4     13750  30.0  38500.0   Diesel  ...          0  2000      3    1170\n",
              "...     ...   ...      ...      ...  ...        ...   ...    ...     ...\n",
              "1431   7500   0.0  20544.0   Petrol  ...          0  1300      3    1025\n",
              "1432  10845  72.0      0.0   Petrol  ...          0  1300      3    1015\n",
              "1433   8500   0.0  17016.0   Petrol  ...          0  1300      3    1015\n",
              "1434   7250  70.0      0.0        0  ...          0  1300      3    1015\n",
              "1435   6950  76.0      1.0   Petrol  ...          0  1600      5    1114\n",
              "\n",
              "[1436 rows x 10 columns]"
            ]
          },
          "metadata": {
            "tags": []
          },
          "execution_count": 50
        }
      ]
    },
    {
      "cell_type": "code",
      "metadata": {
        "id": "7XDshPCaydV0",
        "colab_type": "code",
        "colab": {}
      },
      "source": [
        "X_data=np.array(toyota['Age'])"
      ],
      "execution_count": 0,
      "outputs": []
    },
    {
      "cell_type": "code",
      "metadata": {
        "id": "304AE3BJ1SAh",
        "colab_type": "code",
        "colab": {}
      },
      "source": [
        "Y_data=toyota['Price']"
      ],
      "execution_count": 0,
      "outputs": []
    },
    {
      "cell_type": "code",
      "metadata": {
        "id": "ipfOoA5o2nhT",
        "colab_type": "code",
        "colab": {
          "base_uri": "https://localhost:8080/",
          "height": 34
        },
        "outputId": "f2261cdc-dc9b-48d7-fd3b-dcdf94f479f4"
      },
      "source": [
        "X_data.shape"
      ],
      "execution_count": 53,
      "outputs": [
        {
          "output_type": "execute_result",
          "data": {
            "text/plain": [
              "(1436,)"
            ]
          },
          "metadata": {
            "tags": []
          },
          "execution_count": 53
        }
      ]
    },
    {
      "cell_type": "code",
      "metadata": {
        "id": "mpgT0Irj2tlx",
        "colab_type": "code",
        "colab": {}
      },
      "source": [
        "index=np.random.permutation(nop)"
      ],
      "execution_count": 0,
      "outputs": []
    },
    {
      "cell_type": "code",
      "metadata": {
        "id": "mGJh5RIz-Jz6",
        "colab_type": "code",
        "colab": {}
      },
      "source": [
        "train_num=int(nop*0.8)"
      ],
      "execution_count": 0,
      "outputs": []
    },
    {
      "cell_type": "code",
      "metadata": {
        "id": "MEMSpw52-CUF",
        "colab_type": "code",
        "colab": {}
      },
      "source": [
        "X_train=X_data[index[:train_num]]\n",
        "Y_train=Y_data[index[:train_num]]"
      ],
      "execution_count": 0,
      "outputs": []
    },
    {
      "cell_type": "code",
      "metadata": {
        "id": "aerYobut_QxK",
        "colab_type": "code",
        "colab": {}
      },
      "source": [
        "X_test=X_data[index[train_num:]]\n",
        "Y_test=Y_data[index[train_num:]]"
      ],
      "execution_count": 0,
      "outputs": []
    },
    {
      "cell_type": "code",
      "metadata": {
        "id": "9Cq8DbAp_m8y",
        "colab_type": "code",
        "colab": {
          "base_uri": "https://localhost:8080/",
          "height": 136
        },
        "outputId": "3c5ddb96-1526-41c7-e916-b1c7291e4b09"
      },
      "source": [
        "X_train.reshape(-1,1)"
      ],
      "execution_count": 58,
      "outputs": [
        {
          "output_type": "execute_result",
          "data": {
            "text/plain": [
              "array([[46.],\n",
              "       [33.],\n",
              "       [49.],\n",
              "       ...,\n",
              "       [54.],\n",
              "       [20.],\n",
              "       [nan]])"
            ]
          },
          "metadata": {
            "tags": []
          },
          "execution_count": 58
        }
      ]
    },
    {
      "cell_type": "code",
      "metadata": {
        "id": "6jLhcjKjAtEo",
        "colab_type": "code",
        "colab": {
          "base_uri": "https://localhost:8080/",
          "height": 34
        },
        "outputId": "11ed0160-83d0-4632-def5-09d3966baa73"
      },
      "source": [
        "X_train.shape"
      ],
      "execution_count": 59,
      "outputs": [
        {
          "output_type": "execute_result",
          "data": {
            "text/plain": [
              "(1148,)"
            ]
          },
          "metadata": {
            "tags": []
          },
          "execution_count": 59
        }
      ]
    },
    {
      "cell_type": "code",
      "metadata": {
        "id": "F0JgWkgTBuL-",
        "colab_type": "code",
        "colab": {}
      },
      "source": [
        ""
      ],
      "execution_count": 0,
      "outputs": []
    }
  ]
}